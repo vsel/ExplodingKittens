{
 "cells": [
  {
   "cell_type": "code",
   "execution_count": 24,
   "metadata": {},
   "outputs": [
    {
     "name": "stdout",
     "output_type": "stream",
     "text": [
      "[{'start': (0, 0), 'finish': (1, 3), 'distance': 4, 'left_bottom_corner_distance': 0, 'earliest_start': 2, 'lastest_finish': 9}, {'start': (1, 2), 'finish': (1, 0), 'distance': 2, 'left_bottom_corner_distance': 3, 'earliest_start': 0, 'lastest_finish': 9}, {'start': (2, 0), 'finish': (2, 2), 'distance': 2, 'left_bottom_corner_distance': 2, 'earliest_start': 0, 'lastest_finish': 9}]\n",
      "END\n"
     ]
    }
   ],
   "source": [
    "import pandas as pd\n",
    "from collections import defaultdict\n",
    "#with open('/Users/Volodymyr/Downloads/hashcode2018/d_metropolis.in') as file:\n",
    "with open('/Users/Volodymyr/Downloads/hashcode2018/a_example.in') as file:\n",
    "    setup_row = file.readline()\n",
    "    (row_on_grid,\n",
    "     columns_on_grid,\n",
    "     vehicles_on_fleet,\n",
    "     numbers_of_rides,\n",
    "     bonus_for_start_in_time,\n",
    "     steps) = [int(item) for item in setup_row.rstrip('\\n').split()]\n",
    "    #print(r,c,f,n,b,t)\n",
    "    ride_id = 0\n",
    "    rides = []\n",
    "    while ride_id < numbers_of_rides:\n",
    "        ride = file.readline()\n",
    "        a,b,x,y,s,f = [int(item) for item in ride.rstrip('\\n').split()]\n",
    "        rides.append({\n",
    "            'start': (a,b),\n",
    "            'finish':(x,y),\n",
    "            'distance': abs(a-x)+abs(b-y),\n",
    "            'left_bottom_corner_distance': a+b,\n",
    "            'earliest_start':s,\n",
    "            'lastest_finish':f\n",
    "        })\n",
    "        ride_id +=1\n",
    "    print(rides)\n",
    "    \n",
    "    \n",
    "    \n",
    "#     #print(setup_row.rstrip('\\n').split())\n",
    "#     #print(v,e,r,c,x)\n",
    "#     v_len = 0\n",
    "#     videos = []\n",
    "#     while v_len < v:\n",
    "#         video_row = f.readline()\n",
    "#         videos += video_row.rstrip('\\n').split()\n",
    "#         v_len += len(videos)\n",
    "#     #print(videos)\n",
    "#     e_id = 0\n",
    "#     data_centers_to_cach_servers = defaultdict(list)\n",
    "#     while e_id < e:\n",
    "#         data_center_setup_row = f.readline()\n",
    "#         data_center_id, k = [int(item) for item in data_center_setup_row.rstrip('\\n').split()]\n",
    "#         cache_server_len = 0\n",
    "#         k_id = 0\n",
    "#         while k_id < k:\n",
    "#             k_id +=1\n",
    "#             cache_server_row = f.readline()\n",
    "#             c_id, cache_server_lat = [int(item) for item in cache_server_row.rstrip('\\n').split()]\n",
    "#             data_centers_to_cach_servers[data_center_id].append((c_id, cache_server_lat))\n",
    "#         e_id += 1  \n",
    "#     #print(data_centers_to_cach_servers)\n",
    "#     r_id = 0\n",
    "#     requests = []\n",
    "#     while r_id < r:\n",
    "#         request_row = f.readline()\n",
    "#         r_v, r_e, r_n = [int(item) for item in request_row.rstrip('\\n').split()]\n",
    "#         r_id += 1\n",
    "#         requests.append([r_v, r_e, r_n])\n",
    "#     #print(requests)\n",
    "print('END')"
   ]
  },
  {
   "cell_type": "code",
   "execution_count": null,
   "metadata": {},
   "outputs": [],
   "source": []
  },
  {
   "cell_type": "code",
   "execution_count": null,
   "metadata": {},
   "outputs": [],
   "source": []
  },
  {
   "cell_type": "code",
   "execution_count": null,
   "metadata": {},
   "outputs": [],
   "source": []
  },
  {
   "cell_type": "code",
   "execution_count": null,
   "metadata": {},
   "outputs": [],
   "source": []
  },
  {
   "cell_type": "code",
   "execution_count": null,
   "metadata": {},
   "outputs": [],
   "source": []
  },
  {
   "cell_type": "code",
   "execution_count": 20,
   "metadata": {},
   "outputs": [
    {
     "name": "stdout",
     "output_type": "stream",
     "text": [
      "1 2 3 4 5 6\n",
      "1 2 3 4 5 6\n",
      "1 2 3 4 5 6\n"
     ]
    }
   ],
   "source": [
    "output_line = \"5 0 1 2 3 4\" # 5 - quantity of next numbers 0 1 2 3 4 ( quantity 5)\n",
    "with open('/Users/Volodymyr/Downloads/hashcode2018/a_example.out', 'a') as out_file:\n",
    "    vehicles_id = 0\n",
    "    while vehicles_id <= vehickles_on_fleet:\n",
    "        result_row = [1,2,3,4,5]\n",
    "        print(\" \".join(\"123456\"))\n"
   ]
  },
  {
   "cell_type": "code",
   "execution_count": null,
   "metadata": {},
   "outputs": [],
   "source": []
  },
  {
   "cell_type": "code",
   "execution_count": null,
   "metadata": {},
   "outputs": [],
   "source": []
  },
  {
   "cell_type": "code",
   "execution_count": null,
   "metadata": {},
   "outputs": [],
   "source": []
  },
  {
   "cell_type": "code",
   "execution_count": null,
   "metadata": {},
   "outputs": [],
   "source": []
  },
  {
   "cell_type": "code",
   "execution_count": null,
   "metadata": {},
   "outputs": [],
   "source": []
  },
  {
   "cell_type": "code",
   "execution_count": null,
   "metadata": {},
   "outputs": [],
   "source": []
  },
  {
   "cell_type": "code",
   "execution_count": null,
   "metadata": {},
   "outputs": [],
   "source": []
  },
  {
   "cell_type": "code",
   "execution_count": null,
   "metadata": {},
   "outputs": [],
   "source": []
  },
  {
   "cell_type": "code",
   "execution_count": null,
   "metadata": {},
   "outputs": [],
   "source": []
  },
  {
   "cell_type": "code",
   "execution_count": null,
   "metadata": {},
   "outputs": [],
   "source": []
  },
  {
   "cell_type": "code",
   "execution_count": null,
   "metadata": {},
   "outputs": [],
   "source": []
  },
  {
   "cell_type": "code",
   "execution_count": null,
   "metadata": {},
   "outputs": [],
   "source": []
  },
  {
   "cell_type": "code",
   "execution_count": null,
   "metadata": {},
   "outputs": [],
   "source": []
  },
  {
   "cell_type": "code",
   "execution_count": null,
   "metadata": {},
   "outputs": [],
   "source": []
  },
  {
   "cell_type": "code",
   "execution_count": null,
   "metadata": {},
   "outputs": [],
   "source": []
  }
 ],
 "metadata": {
  "kernelspec": {
   "display_name": "venv-jupyter_test",
   "language": "python",
   "name": "venv-jupyter_test"
  },
  "language_info": {
   "codemirror_mode": {
    "name": "ipython",
    "version": 3
   },
   "file_extension": ".py",
   "mimetype": "text/x-python",
   "name": "python",
   "nbconvert_exporter": "python",
   "pygments_lexer": "ipython3",
   "version": "3.6.3"
  }
 },
 "nbformat": 4,
 "nbformat_minor": 2
}
