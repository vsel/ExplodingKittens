{
 "cells": [
  {
   "cell_type": "code",
   "execution_count": 83,
   "metadata": {},
   "outputs": [
    {
     "name": "stdout",
     "output_type": "stream",
     "text": [
      "{'row_on_grid': 3, 'columns_on_grid': 4, 'vehicles_on_fleet': 2, 'numbers_of_rides': 3, 'bonus_for_start_in_time': 2, 'steps': 10}\n",
      "[{'start': (0, 0), 'finish': (1, 3), 'distance': 4, 'left_bottom_corner_distance': 0, 'earliest_start': 2, 'lastest_finish': 9, 'ride_id': 0}, {'start': (1, 2), 'finish': (1, 0), 'distance': 2, 'left_bottom_corner_distance': 3, 'earliest_start': 0, 'lastest_finish': 9, 'ride_id': 1}, {'start': (2, 0), 'finish': (2, 2), 'distance': 2, 'left_bottom_corner_distance': 2, 'earliest_start': 0, 'lastest_finish': 9, 'ride_id': 2}]\n",
      "[[0, 0, 0, []], [0, 0, 0, []]]\n",
      "[[1, 0, 0, [0, 1]], [2, 2, 0, [2]]]\n",
      "2 0 1\n",
      "1 2\n",
      "END\n"
     ]
    }
   ],
   "source": [
    "import pandas as pd\n",
    "from collections import defaultdict\n",
    "#with open('/Users/Volodymyr/Downloads/hashcode2018/d_metropolis.in') as file:\n",
    "def find_most_blizkiy(ostavshiesya_list, tazik):\n",
    "    if len(ostavshiesya_list)>0:\n",
    "        rides_list = {}\n",
    "        for id_, ride in enumerate(ostavshiesya_list):\n",
    "            rides_list[id_] = abs(tazik[0]-ride['start'][0])+abs(tazik[1]-ride['start'][1])\n",
    "        take_ride_id = min(rides_list, key=rides_list.get)\n",
    "        tazik[0] = ostavshiesya_list[take_ride_id]['finish'][0]\n",
    "        tazik[1] =ostavshiesya_list[take_ride_id]['finish'][1]\n",
    "        tazik[2] = rides_list[take_ride_id]\n",
    "        tazik[3].append(ostavshiesya_list[take_ride_id]['ride_id'])\n",
    "        del ostavshiesya_list[take_ride_id]\n",
    "    return ostavshiesya_list\n",
    "    \n",
    "with open('/Users/Volodymyr/Downloads/hashcode2018/a_example.in') as file:\n",
    "    setup_row = file.readline()\n",
    "    (row_on_grid,\n",
    "     columns_on_grid,\n",
    "     vehicles_on_fleet,\n",
    "     numbers_of_rides,\n",
    "     bonus_for_start_in_time,\n",
    "     steps) = [int(item) for item in setup_row.rstrip('\\n').split()]\n",
    "    for_print = {\n",
    "        'row_on_grid': row_on_grid,\n",
    "        'columns_on_grid': columns_on_grid,\n",
    "        'vehicles_on_fleet':vehicles_on_fleet,\n",
    "        'numbers_of_rides':numbers_of_rides,\n",
    "        'bonus_for_start_in_time':bonus_for_start_in_time,\n",
    "        'steps':steps\n",
    "    }\n",
    "    print(for_print)\n",
    "    ride_id = 0\n",
    "    rides = []\n",
    "    while ride_id < numbers_of_rides:\n",
    "        ride = file.readline()\n",
    "        a,b,x,y,s,f = [int(item) for item in ride.rstrip('\\n').split()]\n",
    "        rides.append({\n",
    "            'start': (a,b),\n",
    "            'finish':(x,y),\n",
    "            'distance': abs(a-x)+abs(b-y),\n",
    "            'left_bottom_corner_distance': a+b,\n",
    "            'earliest_start':s,\n",
    "            'lastest_finish':f,\n",
    "            'ride_id':ride_id\n",
    "        })\n",
    "        ride_id +=1\n",
    "    print(rides)\n",
    "#############################\n",
    "all_taziks = [[0,0,0,[]] for x in range(vehicles_on_fleet)]\n",
    "print(all_taziks)\n",
    "step = 0\n",
    "while step<steps:\n",
    "    for id_, tazik in enumerate(all_taziks):\n",
    "        if tazik[2] == 0:\n",
    "            rides= find_most_blizkiy(rides, tazik)\n",
    "        else:\n",
    "            tazik[2] -= 1 \n",
    "    step+=1\n",
    "print(all_taziks)\n",
    "list_of_lists = [x[3] for x in all_taziks]\n",
    "with open('./hashcode2018/vova_s_example_test.out', 'a') as out_file:\n",
    "    vehicle_id = 0\n",
    "    list_gen = (x for x in list_of_lists)\n",
    "    while vehicle_id < vehicles_on_fleet:\n",
    "        result_row = next(list_gen)\n",
    "        print(str(len(result_row))+\" \"+\" \".join(str(x) for x in result_row))\n",
    "        vehicle_id +=1\n",
    "        out_file.write(str(len(result_row))+\" \"+\" \".join(str(x) for x in result_row)+\"\\n\")\n",
    "print('END')"
   ]
  },
  {
   "cell_type": "code",
   "execution_count": null,
   "metadata": {},
   "outputs": [],
   "source": []
  },
  {
   "cell_type": "code",
   "execution_count": null,
   "metadata": {},
   "outputs": [],
   "source": []
  },
  {
   "cell_type": "code",
   "execution_count": null,
   "metadata": {},
   "outputs": [],
   "source": []
  },
  {
   "cell_type": "code",
   "execution_count": null,
   "metadata": {},
   "outputs": [],
   "source": []
  },
  {
   "cell_type": "code",
   "execution_count": null,
   "metadata": {},
   "outputs": [],
   "source": []
  },
  {
   "cell_type": "code",
   "execution_count": null,
   "metadata": {},
   "outputs": [],
   "source": []
  },
  {
   "cell_type": "code",
   "execution_count": null,
   "metadata": {},
   "outputs": [],
   "source": []
  },
  {
   "cell_type": "code",
   "execution_count": null,
   "metadata": {},
   "outputs": [],
   "source": []
  },
  {
   "cell_type": "code",
   "execution_count": null,
   "metadata": {},
   "outputs": [],
   "source": []
  },
  {
   "cell_type": "code",
   "execution_count": null,
   "metadata": {},
   "outputs": [],
   "source": []
  },
  {
   "cell_type": "code",
   "execution_count": null,
   "metadata": {},
   "outputs": [],
   "source": []
  },
  {
   "cell_type": "code",
   "execution_count": null,
   "metadata": {},
   "outputs": [],
   "source": []
  },
  {
   "cell_type": "code",
   "execution_count": null,
   "metadata": {},
   "outputs": [],
   "source": []
  },
  {
   "cell_type": "code",
   "execution_count": null,
   "metadata": {},
   "outputs": [],
   "source": []
  },
  {
   "cell_type": "code",
   "execution_count": null,
   "metadata": {},
   "outputs": [],
   "source": []
  },
  {
   "cell_type": "code",
   "execution_count": null,
   "metadata": {},
   "outputs": [],
   "source": []
  },
  {
   "cell_type": "code",
   "execution_count": null,
   "metadata": {},
   "outputs": [],
   "source": []
  },
  {
   "cell_type": "code",
   "execution_count": null,
   "metadata": {},
   "outputs": [],
   "source": []
  },
  {
   "cell_type": "code",
   "execution_count": null,
   "metadata": {},
   "outputs": [],
   "source": []
  },
  {
   "cell_type": "code",
   "execution_count": null,
   "metadata": {},
   "outputs": [],
   "source": []
  },
  {
   "cell_type": "code",
   "execution_count": null,
   "metadata": {},
   "outputs": [],
   "source": []
  },
  {
   "cell_type": "code",
   "execution_count": null,
   "metadata": {},
   "outputs": [],
   "source": []
  },
  {
   "cell_type": "code",
   "execution_count": null,
   "metadata": {},
   "outputs": [],
   "source": []
  },
  {
   "cell_type": "code",
   "execution_count": null,
   "metadata": {},
   "outputs": [],
   "source": []
  },
  {
   "cell_type": "code",
   "execution_count": null,
   "metadata": {},
   "outputs": [],
   "source": []
  },
  {
   "cell_type": "code",
   "execution_count": null,
   "metadata": {},
   "outputs": [],
   "source": []
  },
  {
   "cell_type": "code",
   "execution_count": null,
   "metadata": {},
   "outputs": [],
   "source": []
  },
  {
   "cell_type": "code",
   "execution_count": null,
   "metadata": {},
   "outputs": [],
   "source": []
  },
  {
   "cell_type": "code",
   "execution_count": null,
   "metadata": {},
   "outputs": [],
   "source": []
  },
  {
   "cell_type": "code",
   "execution_count": null,
   "metadata": {},
   "outputs": [],
   "source": []
  },
  {
   "cell_type": "code",
   "execution_count": null,
   "metadata": {},
   "outputs": [],
   "source": []
  },
  {
   "cell_type": "code",
   "execution_count": null,
   "metadata": {},
   "outputs": [],
   "source": []
  },
  {
   "cell_type": "code",
   "execution_count": null,
   "metadata": {},
   "outputs": [],
   "source": []
  },
  {
   "cell_type": "code",
   "execution_count": null,
   "metadata": {},
   "outputs": [],
   "source": []
  },
  {
   "cell_type": "code",
   "execution_count": null,
   "metadata": {},
   "outputs": [],
   "source": []
  },
  {
   "cell_type": "code",
   "execution_count": null,
   "metadata": {},
   "outputs": [],
   "source": []
  },
  {
   "cell_type": "code",
   "execution_count": null,
   "metadata": {},
   "outputs": [],
   "source": []
  },
  {
   "cell_type": "code",
   "execution_count": null,
   "metadata": {},
   "outputs": [],
   "source": []
  },
  {
   "cell_type": "code",
   "execution_count": null,
   "metadata": {},
   "outputs": [],
   "source": []
  },
  {
   "cell_type": "code",
   "execution_count": null,
   "metadata": {},
   "outputs": [],
   "source": []
  },
  {
   "cell_type": "code",
   "execution_count": null,
   "metadata": {},
   "outputs": [],
   "source": []
  },
  {
   "cell_type": "code",
   "execution_count": null,
   "metadata": {},
   "outputs": [],
   "source": []
  },
  {
   "cell_type": "code",
   "execution_count": null,
   "metadata": {},
   "outputs": [],
   "source": []
  },
  {
   "cell_type": "code",
   "execution_count": null,
   "metadata": {},
   "outputs": [],
   "source": []
  },
  {
   "cell_type": "code",
   "execution_count": null,
   "metadata": {},
   "outputs": [],
   "source": []
  },
  {
   "cell_type": "code",
   "execution_count": 44,
   "metadata": {},
   "outputs": [
    {
     "name": "stdout",
     "output_type": "stream",
     "text": [
      "2 1 4\n",
      "2 2 3\n",
      "3 1 2 3\n"
     ]
    }
   ],
   "source": [
    "with open('./hashcode2018/vova_s_example.out', 'a') as out_file:\n",
    "    vehicle_id = 0\n",
    "    list_of_lists = [[1,4],[2,3],[1,2,3]]\n",
    "    list_gen = (x for x in list_of_lists)\n",
    "    while vehicle_id <= vehicles_on_fleet:\n",
    "        result_row = next(list_gen)\n",
    "        print(str(len(result_row))+\" \"+\" \".join(str(x) for x in result_row))\n",
    "        vehicle_id +=1\n",
    "        out_file.write(str(len(result_row))+\" \"+\" \".join(str(x) for x in result_row)+\"\\n\")\n"
   ]
  },
  {
   "cell_type": "code",
   "execution_count": null,
   "metadata": {},
   "outputs": [],
   "source": []
  },
  {
   "cell_type": "code",
   "execution_count": null,
   "metadata": {},
   "outputs": [],
   "source": []
  },
  {
   "cell_type": "code",
   "execution_count": null,
   "metadata": {},
   "outputs": [],
   "source": []
  },
  {
   "cell_type": "code",
   "execution_count": null,
   "metadata": {},
   "outputs": [],
   "source": []
  },
  {
   "cell_type": "code",
   "execution_count": null,
   "metadata": {},
   "outputs": [],
   "source": []
  },
  {
   "cell_type": "code",
   "execution_count": null,
   "metadata": {},
   "outputs": [],
   "source": []
  },
  {
   "cell_type": "code",
   "execution_count": null,
   "metadata": {},
   "outputs": [],
   "source": []
  },
  {
   "cell_type": "code",
   "execution_count": null,
   "metadata": {},
   "outputs": [],
   "source": []
  },
  {
   "cell_type": "code",
   "execution_count": null,
   "metadata": {},
   "outputs": [],
   "source": []
  },
  {
   "cell_type": "code",
   "execution_count": null,
   "metadata": {},
   "outputs": [],
   "source": []
  },
  {
   "cell_type": "code",
   "execution_count": null,
   "metadata": {},
   "outputs": [],
   "source": []
  },
  {
   "cell_type": "code",
   "execution_count": null,
   "metadata": {},
   "outputs": [],
   "source": []
  },
  {
   "cell_type": "code",
   "execution_count": null,
   "metadata": {},
   "outputs": [],
   "source": []
  },
  {
   "cell_type": "code",
   "execution_count": null,
   "metadata": {},
   "outputs": [],
   "source": []
  },
  {
   "cell_type": "code",
   "execution_count": null,
   "metadata": {},
   "outputs": [],
   "source": []
  },
  {
   "cell_type": "code",
   "execution_count": null,
   "metadata": {},
   "outputs": [],
   "source": []
  },
  {
   "cell_type": "code",
   "execution_count": null,
   "metadata": {},
   "outputs": [],
   "source": []
  },
  {
   "cell_type": "code",
   "execution_count": null,
   "metadata": {},
   "outputs": [],
   "source": []
  },
  {
   "cell_type": "code",
   "execution_count": null,
   "metadata": {},
   "outputs": [],
   "source": []
  },
  {
   "cell_type": "code",
   "execution_count": null,
   "metadata": {},
   "outputs": [],
   "source": []
  },
  {
   "cell_type": "code",
   "execution_count": null,
   "metadata": {},
   "outputs": [],
   "source": []
  },
  {
   "cell_type": "code",
   "execution_count": null,
   "metadata": {},
   "outputs": [],
   "source": []
  },
  {
   "cell_type": "code",
   "execution_count": null,
   "metadata": {},
   "outputs": [],
   "source": []
  },
  {
   "cell_type": "code",
   "execution_count": null,
   "metadata": {},
   "outputs": [],
   "source": []
  },
  {
   "cell_type": "code",
   "execution_count": null,
   "metadata": {},
   "outputs": [],
   "source": []
  },
  {
   "cell_type": "code",
   "execution_count": null,
   "metadata": {},
   "outputs": [],
   "source": []
  },
  {
   "cell_type": "code",
   "execution_count": null,
   "metadata": {},
   "outputs": [],
   "source": []
  },
  {
   "cell_type": "code",
   "execution_count": null,
   "metadata": {},
   "outputs": [],
   "source": []
  },
  {
   "cell_type": "code",
   "execution_count": null,
   "metadata": {},
   "outputs": [],
   "source": []
  },
  {
   "cell_type": "code",
   "execution_count": null,
   "metadata": {},
   "outputs": [],
   "source": []
  },
  {
   "cell_type": "code",
   "execution_count": null,
   "metadata": {},
   "outputs": [],
   "source": []
  },
  {
   "cell_type": "code",
   "execution_count": null,
   "metadata": {},
   "outputs": [],
   "source": []
  },
  {
   "cell_type": "code",
   "execution_count": null,
   "metadata": {},
   "outputs": [],
   "source": []
  },
  {
   "cell_type": "code",
   "execution_count": null,
   "metadata": {},
   "outputs": [],
   "source": []
  }
 ],
 "metadata": {
  "kernelspec": {
   "display_name": "venv-jupyter_test",
   "language": "python",
   "name": "venv-jupyter_test"
  },
  "language_info": {
   "codemirror_mode": {
    "name": "ipython",
    "version": 3
   },
   "file_extension": ".py",
   "mimetype": "text/x-python",
   "name": "python",
   "nbconvert_exporter": "python",
   "pygments_lexer": "ipython3",
   "version": "3.6.3"
  }
 },
 "nbformat": 4,
 "nbformat_minor": 2
}
